{
  "nbformat": 4,
  "nbformat_minor": 0,
  "metadata": {
    "colab": {
      "provenance": [],
      "authorship_tag": "ABX9TyO/rMm4O977rwqWP8NCtmgg",
      "include_colab_link": true
    },
    "kernelspec": {
      "name": "python3",
      "display_name": "Python 3"
    },
    "language_info": {
      "name": "python"
    }
  },
  "cells": [
    {
      "cell_type": "markdown",
      "metadata": {
        "id": "view-in-github",
        "colab_type": "text"
      },
      "source": [
        "<a href=\"https://colab.research.google.com/github/AlexanderKearney-eng/Basic-data-structures/blob/main/18_unique_values_list.ipynb\" target=\"_parent\"><img src=\"https://colab.research.google.com/assets/colab-badge.svg\" alt=\"Open In Colab\"/></a>"
      ]
    },
    {
      "cell_type": "code",
      "execution_count": 8,
      "metadata": {
        "colab": {
          "base_uri": "https://localhost:8080/"
        },
        "id": "TT6RLhJVNgLI",
        "outputId": "de49e127-4939-41ce-e41b-8c4d0afe564a"
      },
      "outputs": [
        {
          "output_type": "stream",
          "name": "stdout",
          "text": [
            "This program takes a list and removes duplicate values.\n",
            "Output list: ['A', 'B', 'C', 'D', 'E']\n"
          ]
        }
      ],
      "source": [
        "# Using fundamental python tools\n",
        "\n",
        "print(\"This program takes a list and removes duplicate values.\")\n",
        "\n",
        "# Define your list\n",
        "input_list = ['A', 'B', 'C', 'A', 'D', 'E', 'B', 'A']\n",
        "input_dict = {}\n",
        "\n",
        "# Take each element of the list, add it to output list, only if it hasn't been added before\n",
        "for i, term in enumerate(input_list):\n",
        "  if term not in input_dict:\n",
        "    input_dict[term] = i\n",
        "\n",
        "output_list = list(input_dict.keys())\n",
        "print(f\"Output list: {output_list}\")"
      ]
    },
    {
      "cell_type": "code",
      "source": [
        "# Using deques\n",
        "\n",
        "import collections\n",
        "from collections import deque\n",
        "\n",
        "print(\"This program takes a list and removes duplicate values.\")\n",
        "\n",
        "# Define your list\n",
        "input_list = ['A', 'B', 'C', 'A', 'D', 'E', 'B', 'A']\n",
        "input_d = deque('')\n",
        "\n",
        "# Take each element of the list and add it to the deque only if it hasn't been added before\n",
        "for term in input_list:\n",
        "  if term not in input_d:\n",
        "    input_d.append(term)\n",
        "\n",
        "# Generate your output\n",
        "output_list = list(input_d)\n",
        "print(f\"Output list: {output_list}\")"
      ],
      "metadata": {
        "colab": {
          "base_uri": "https://localhost:8080/"
        },
        "id": "4Uzokd83wj_J",
        "outputId": "cd83e611-fa9a-4ec7-86c3-a2f413a1a7bc"
      },
      "execution_count": 10,
      "outputs": [
        {
          "output_type": "stream",
          "name": "stdout",
          "text": [
            "This program takes a list and removes duplicate values.\n",
            "deque(['A'])\n",
            "deque(['A', 'B'])\n",
            "deque(['A', 'B', 'C'])\n",
            "deque(['A', 'B', 'C', 'D'])\n",
            "deque(['A', 'B', 'C', 'D', 'E'])\n",
            "Output list: ['A', 'B', 'C', 'D', 'E']\n"
          ]
        }
      ]
    },
    {
      "cell_type": "code",
      "source": [
        "# Using dictionaries - note: this is the best solution\n",
        "\n",
        "print(\"This program takes a list and removes duplicated values.\")\n",
        "\n",
        "# Define your list\n",
        "input_list = ['A', 'B', 'C', 'A', 'D', 'E', 'B', 'A']\n",
        "\n",
        "# Compile terms into a dictionary. Note that order will be preserved.\n",
        "input_dic = dict( [ (term, None) for term in input_list ] )\n",
        "\n",
        "# Output  result\n",
        "print(f\"Output list: {list(input_dic.keys())}\")"
      ],
      "metadata": {
        "colab": {
          "base_uri": "https://localhost:8080/"
        },
        "id": "sKHfmlYzU7J5",
        "outputId": "4b8db491-8417-45bb-f09a-c1b8a5cc43c6"
      },
      "execution_count": 16,
      "outputs": [
        {
          "output_type": "stream",
          "name": "stdout",
          "text": [
            "This program takes a list and removes duplicated values.\n",
            "Output list: ['A', 'B', 'C', 'D', 'E']\n"
          ]
        }
      ]
    },
    {
      "cell_type": "code",
      "source": [
        "# Using ordered dictionaries - note: this is also one of the best solutions\n",
        "\n",
        "import collections\n",
        "from collections import OrderedDict\n",
        "\n",
        "print(\"This program takes a list and removes duplicated values.\")\n",
        "\n",
        "# Define your list\n",
        "input_list = ['A', 'B', 'C', 'A', 'D', 'E', 'B', 'A']\n",
        "\n",
        "# Compile terms into an ordered dictionary. Note that order will be preserved.\n",
        "input_odic = OrderedDict( [ (term, None) for term in input_list ] )\n",
        "\n",
        "# Output result\n",
        "print(f\"Output list: {list(input_odic.keys())}\")"
      ],
      "metadata": {
        "colab": {
          "base_uri": "https://localhost:8080/"
        },
        "id": "J_BfuC1zU7Y2",
        "outputId": "ef4ab6c8-9f4d-4816-d477-e6eb218a1b89"
      },
      "execution_count": 17,
      "outputs": [
        {
          "output_type": "stream",
          "name": "stdout",
          "text": [
            "This program takes a list and removes duplicated values.\n",
            "Output list: ['A', 'B', 'C', 'D', 'E']\n"
          ]
        }
      ]
    }
  ]
}