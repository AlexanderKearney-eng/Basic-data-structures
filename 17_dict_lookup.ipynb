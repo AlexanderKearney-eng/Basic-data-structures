{
  "nbformat": 4,
  "nbformat_minor": 0,
  "metadata": {
    "colab": {
      "provenance": []
    },
    "kernelspec": {
      "name": "python3",
      "display_name": "Python 3"
    },
    "language_info": {
      "name": "python"
    }
  },
  "cells": [
    {
      "cell_type": "code",
      "execution_count": 17,
      "metadata": {
        "colab": {
          "base_uri": "https://localhost:8080/"
        },
        "id": "vHyEC4QyLx5r",
        "outputId": "d067c12a-5258-40fa-ead9-d3939359226e"
      },
      "outputs": [
        {
          "output_type": "stream",
          "name": "stdout",
          "text": [
            "This program allows you to look up greetings in the five most commonly spoken languages: Mandarin, Spanish, English, Hindi, and Bengali.\n",
            "Enter your chosen language: \n",
            "Error: you must enter one of english, hindi, mandarin, bengali, spanish\n",
            "Enter your chosen language:      \n",
            "Error: you must enter one of english, hindi, mandarin, bengali, spanish\n",
            "Enter your chosen language: hello\n",
            "Error: you must enter one of english, hindi, mandarin, bengali, spanish\n",
            "Enter your chosen language: Hindi\n",
            "The default greeting in hindi is 'नमस्ते'.\n"
          ]
        }
      ],
      "source": [
        "print(\"This program allows you to look up greetings in the five most commonly spoken languages: Mandarin, Spanish, English, Hindi, and Bengali.\")\n",
        "\n",
        "GREETINGS = { 'mandarin': '你好', 'spanish': 'Hola', 'english': 'Hello', 'hindi': 'नमस्ते', 'bengali': 'হ্যালো' }\n",
        "KEYS = { k for k, v in GREETINGS.items() }\n",
        "\n",
        "# Infinite loop to pass validation\n",
        "while True:\n",
        "  language = input(\"Enter your chosen language: \").strip().casefold()\n",
        "\n",
        "  if language in KEYS:\n",
        "    print(f\"The default greeting in {language.lower()} is '{GREETINGS[language]}'.\")\n",
        "    break\n",
        "  else:\n",
        "    print(\"Error: you must enter one of\", ', '.join(KEYS))"
      ]
    }
  ]
}