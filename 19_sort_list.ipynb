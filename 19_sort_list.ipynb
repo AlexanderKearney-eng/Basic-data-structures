{
  "cells": [
    {
      "cell_type": "markdown",
      "metadata": {
        "id": "view-in-github",
        "colab_type": "text"
      },
      "source": [
        "<a href=\"https://colab.research.google.com/github/AlexanderKearney-eng/Basic-data-structures/blob/main/19_sort_list.ipynb\" target=\"_parent\"><img src=\"https://colab.research.google.com/assets/colab-badge.svg\" alt=\"Open In Colab\"/></a>"
      ]
    },
    {
      "cell_type": "code",
      "execution_count": 30,
      "metadata": {
        "colab": {
          "base_uri": "https://localhost:8080/"
        },
        "id": "AkAWgB46a9RG",
        "outputId": "149583e8-8667-41f7-ed45-2e119058d0e6"
      },
      "outputs": [
        {
          "output_type": "stream",
          "name": "stdout",
          "text": [
            "This program takes a list of numbers and sorts it in ascending order.\n",
            "Please enter the numbers you would like to find the minimum over: 6, 84, 14, 85   54, 99,63, 44 55, 11\n",
            "Warning: the terms ' 85   54', ' 44 55' contained missing commas but were parsed successfully.\n",
            "6, 84, 14, 85   54, 99,63, 44 55, 11 sorted from minimum to maximum is:\n",
            "[6.0, 11.0, 14.0, 44.0, 54.0, 55.0, 63.0, 84.0, 85.0, 99.0].\n"
          ]
        }
      ],
      "source": [
        "# Challenge 19: Sort a List\n",
        "\n",
        "print(\"This program takes a list of numbers and sorts it in ascending order.\")\n",
        "\n",
        "# Define a function to process inputs\n",
        "def process_text(term, delimiter=None):\n",
        "  if delimiter:\n",
        "    split_term = term.split(delimiter)\n",
        "  else:\n",
        "    split_term = term.split()\n",
        "  try:\n",
        "    return [ float(i) for i in split_term ], None\n",
        "  except ValueError:\n",
        "    return None, split_term\n",
        "\n",
        "# Function to validate and correct user input\n",
        "def validate_and_correct(user_text):\n",
        "  warnings = []\n",
        "  final_list = []\n",
        "  invalid_inputs = []\n",
        "\n",
        "  parsed_floats, parsed_text = process_text(user_text, ',')\n",
        "  if parsed_floats:\n",
        "    final_list.extend(parsed_floats)\n",
        "  else:\n",
        "    # Check terms for missing commas\n",
        "    for term in parsed_text:\n",
        "      parsed, invalid = process_text(term.strip())\n",
        "      # Store terms according to their validity\n",
        "      if invalid:\n",
        "        invalid_inputs.append(term.strip())\n",
        "        continue\n",
        "      if parsed:\n",
        "        final_list.extend(parsed)\n",
        "        if len(parsed) > 1:         # Provide warnings for terms missing commas\n",
        "          warnings.append(term)\n",
        "    # Raise error if input text contains invalid terms\n",
        "    if len(invalid_inputs) > 0:\n",
        "      invalid_text = \"', '\".join(invalid_inputs)\n",
        "      raise ValueError(f\"Invalid inputs detected: {invalid_text}\")\n",
        "  return final_list, warnings\n",
        "\n",
        "\n",
        "# Infinite loop for input validation\n",
        "while True:\n",
        "  user_text = input(\"Please enter the numbers you would like to find the minimum over: \").strip()     # Strip to ensure whitespace inputs process as empty\n",
        "\n",
        "  # Check for empty input\n",
        "  if not user_text:\n",
        "    print(\"ERROR: empty inputs are invalid.\")\n",
        "    continue\n",
        "\n",
        "  # Exit loop if input is valid\n",
        "  try:\n",
        "    final_list, warnings = validate_and_correct(user_text)\n",
        "    break\n",
        "  # Retry loop if input invalid\n",
        "  except ValueError as e:\n",
        "    print(\"ERROR\", str(e))\n",
        "    continue\n",
        "\n",
        "\n",
        "# Display warnings if there are any\n",
        "if warnings:\n",
        "  warning_terms = \"', '\".join(warnings)\n",
        "  print(f\"Warning: the terms '{warning_terms}' contained missing commas but were parsed successfully.\")\n",
        "\n",
        "\n",
        "# Sort the final list\n",
        "result = sorted(final_list)\n",
        "\n",
        "# Return result to the user\n",
        "print(f\"{user_text} sorted from minimum to maximum is:\\n{result}.\")"
      ]
    },
    {
      "cell_type": "code",
      "execution_count": null,
      "metadata": {
        "colab": {
          "base_uri": "https://localhost:8080/"
        },
        "id": "hkRZIwWZbT58",
        "outputId": "6b3569bc-54a4-433c-9312-ccde58343604"
      },
      "outputs": [
        {
          "name": "stdout",
          "output_type": "stream",
          "text": [
            "[6.0, 14.0, 84.0, 54.0, 85.0, 44.0, 99.0, 11.0, 63.0, 55.0]\n",
            "[6.0, 14.0, 54.0, 84.0, 44.0, 85.0, 11.0, 99.0, 55.0, 63.0]\n",
            "[6.0, 14.0, 54.0, 44.0, 84.0, 11.0, 85.0, 55.0, 99.0, 63.0]\n"
          ]
        },
        {
          "data": {
            "text/plain": [
              "[6.0, 14.0, 54.0, 44.0, 84.0, 11.0, 85.0, 55.0, 99.0, 63.0]"
            ]
          },
          "execution_count": 12,
          "metadata": {},
          "output_type": "execute_result"
        }
      ],
      "source": [
        "# Define a function to shuffle the final list\n",
        "def shuffle(input_list):\n",
        "  print(input_list)\n",
        "  for i in range(0, len(input_list), 2):\n",
        "    if input_list[i] > input_list[i+1]:\n",
        "      input_list[i], input_list[i+1] = input_list[i+1], input_list[i]\n",
        "  print(input_list)\n",
        "  for i in range(1, len(input_list)-1, 2):\n",
        "    if input_list[i] > input_list[i+1]:\n",
        "      input_list[i], input_list[i+1] = input_list[i+1], input_list[i]\n",
        "  print(input_list)\n",
        "  return input_list\n",
        "\n",
        "shuffle([6.0, 14.0, 84.0, 54.0, 85.0, 44.0, 99.0, 11.0, 63.0, 55.0])"
      ]
    }
  ],
  "metadata": {
    "colab": {
      "provenance": [],
      "authorship_tag": "ABX9TyNo/OVALnti6Lyo/0N1Beos",
      "include_colab_link": true
    },
    "kernelspec": {
      "display_name": "Python 3",
      "name": "python3"
    },
    "language_info": {
      "name": "python"
    }
  },
  "nbformat": 4,
  "nbformat_minor": 0
}